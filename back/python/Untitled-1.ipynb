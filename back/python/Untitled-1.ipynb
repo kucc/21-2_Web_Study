{
 "cells": [
  {
   "cell_type": "code",
   "execution_count": 1,
   "metadata": {},
   "outputs": [
    {
     "name": "stderr",
     "output_type": "stream",
     "text": [
      "/Users/gim-eungi/opt/anaconda3/lib/python3.9/site-packages/pandas/core/indexing.py:1732: SettingWithCopyWarning: \n",
      "A value is trying to be set on a copy of a slice from a DataFrame\n",
      "\n",
      "See the caveats in the documentation: https://pandas.pydata.org/pandas-docs/stable/user_guide/indexing.html#returning-a-view-versus-a-copy\n",
      "  self._setitem_single_block(indexer, value, name)\n"
     ]
    }
   ],
   "source": [
    "import requests\n",
    "import pandas as pd\n",
    "\n",
    "data = pd.read_csv(\"./sorted_playkuround.csv\")\n",
    "for i in range(data.shape[0]):\n",
    "    searching = data['이름'].iloc[i]\n",
    "    url = 'https://dapi.kakao.com/v2/local/search/keyword.json?x=37.588194705681&y=127.03402453668&query={}'.format(searching)\n",
    "    headers = {\n",
    "        \"Authorization\": \"KakaoAK ea1128b9fb01a06cc80760f350042441\"\n",
    "    }\n",
    "    try : \n",
    "        data['위도'].iloc[i] = requests.get(url, headers = headers).json()['documents'][0]['y']\n",
    "        data['경도'].iloc[i] = requests.get(url, headers = headers).json()['documents'][0]['x']\n",
    "        data['전화번호'].iloc[i] = requests.get(url, headers = headers).json()['documents'][0]['phone']\n",
    "        data['주소'].iloc[i] = requests.get(url, headers = headers).json()['documents'][0]['address_name']\n",
    "    except IndexError: \n",
    "        pass\n",
    "data.to_csv(\"temp_playkuround.csv\", mode='w')\n"
   ]
  },
  {
   "cell_type": "code",
   "execution_count": null,
   "metadata": {},
   "outputs": [],
   "source": []
  }
 ],
 "metadata": {
  "interpreter": {
   "hash": "b0fa6594d8f4cbf19f97940f81e996739fb7646882a419484c72d19e05852a7e"
  },
  "kernelspec": {
   "display_name": "Python 3.9.7 64-bit",
   "language": "python",
   "name": "python3"
  },
  "language_info": {
   "codemirror_mode": {
    "name": "ipython",
    "version": 3
   },
   "file_extension": ".py",
   "mimetype": "text/x-python",
   "name": "python",
   "nbconvert_exporter": "python",
   "pygments_lexer": "ipython3",
   "version": "3.9.7"
  },
  "orig_nbformat": 4
 },
 "nbformat": 4,
 "nbformat_minor": 2
}
