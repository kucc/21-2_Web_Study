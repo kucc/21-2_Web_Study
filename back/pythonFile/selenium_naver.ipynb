{
 "cells": [
  {
   "cell_type": "code",
   "execution_count": 32,
   "metadata": {},
   "outputs": [],
   "source": [
    "import pandas as pd\n",
    "import numpy as np\n",
    "\n",
    "df = pd.read_csv('sortedSeoulMarket.csv', sep=',', encoding='utf-8')"
   ]
  },
  {
   "cell_type": "code",
   "execution_count": 33,
   "metadata": {},
   "outputs": [],
   "source": [
    "# 네이버 지도 검색창에 [~동 @@식당]으로 검색해 정확도를 높여야 합니다. 검색어를 미리 설정해줍시다.\n",
    "\n",
    "df['naver_keyword'] = df['dong'] + \"%20\" + df['name']  # \"%20\"는 띄어쓰기를 의미합니다.\n",
    "df['naver_url'] = ''\n",
    "df['naver_menu1'] = ''\n",
    "df['naver_menu2'] = ''\n",
    "df['naver_menu3'] = ''\n",
    "df['naver_menu4'] = ''\n",
    "df['naver_menu5'] = ''"
   ]
  },
  {
   "cell_type": "code",
   "execution_count": 34,
   "metadata": {},
   "outputs": [],
   "source": [
    "from selenium import webdriver\n",
    "from selenium.webdriver.common.keys import Keys\n",
    "from selenium.webdriver.support.ui import WebDriverWait\n",
    "from selenium.webdriver.support import expected_conditions as EC\n",
    "from selenium.common.exceptions import TimeoutException\n",
    "from selenium.common.exceptions import NoSuchElementException\n",
    "from selenium.webdriver.common.by import By\n",
    "from selenium.webdriver.support.ui import Select\n",
    "import time\n",
    "\n",
    "\n",
    "chromedriver = './chromedriver' \n",
    "driver = webdriver.Chrome(chromedriver) "
   ]
  },
  {
   "cell_type": "code",
   "execution_count": 35,
   "metadata": {},
   "outputs": [
    {
     "name": "stdout",
     "output_type": "stream",
     "text": [
      "이번에 찾을 키워드 : 0 / 9736 행 길음2동%20러쉬\n",
      "이번에 찾을 키워드 : 1 / 9736 행 길음2동%20오리고\n",
      "이번에 찾을 키워드 : 2 / 9736 행 성북동%20짱노래연습장\n",
      "이번에 찾을 키워드 : 3 / 9736 행 청량리동%20본죽\n",
      "이번에 찾을 키워드 : 4 / 9736 행 안암동%20본도시락\n"
     ]
    },
    {
     "ename": "KeyboardInterrupt",
     "evalue": "",
     "output_type": "error",
     "traceback": [
      "\u001b[0;31m---------------------------------------------------------------------------\u001b[0m",
      "\u001b[0;31mKeyboardInterrupt\u001b[0m                         Traceback (most recent call last)",
      "\u001b[0;32m/var/folders/g6/k3jdmk8n5xsdnsqshhlb4k3c0000gn/T/ipykernel_5015/919967001.py\u001b[0m in \u001b[0;36m<module>\u001b[0;34m\u001b[0m\n\u001b[1;32m      5\u001b[0m     \u001b[0mnaver_map_search_url\u001b[0m \u001b[0;34m=\u001b[0m \u001b[0;34mf\"http://map.naver.com/?query={keyword}\"\u001b[0m\u001b[0;34m\u001b[0m\u001b[0;34m\u001b[0m\u001b[0m\n\u001b[1;32m      6\u001b[0m     \u001b[0mdriver\u001b[0m\u001b[0;34m.\u001b[0m\u001b[0mget\u001b[0m\u001b[0;34m(\u001b[0m\u001b[0mnaver_map_search_url\u001b[0m\u001b[0;34m)\u001b[0m\u001b[0;34m\u001b[0m\u001b[0;34m\u001b[0m\u001b[0m\n\u001b[0;32m----> 7\u001b[0;31m     \u001b[0mtime\u001b[0m\u001b[0;34m.\u001b[0m\u001b[0msleep\u001b[0m\u001b[0;34m(\u001b[0m\u001b[0;36m7\u001b[0m\u001b[0;34m)\u001b[0m\u001b[0;34m\u001b[0m\u001b[0;34m\u001b[0m\u001b[0m\n\u001b[0m\u001b[1;32m      8\u001b[0m     \u001b[0;32mtry\u001b[0m\u001b[0;34m:\u001b[0m\u001b[0;34m\u001b[0m\u001b[0;34m\u001b[0m\u001b[0m\n\u001b[1;32m      9\u001b[0m         \u001b[0mdf\u001b[0m\u001b[0;34m[\u001b[0m\u001b[0;34m'naver_url'\u001b[0m\u001b[0;34m]\u001b[0m\u001b[0;34m.\u001b[0m\u001b[0miloc\u001b[0m\u001b[0;34m[\u001b[0m\u001b[0mi\u001b[0m\u001b[0;34m]\u001b[0m \u001b[0;34m=\u001b[0m \u001b[0mdriver\u001b[0m\u001b[0;34m.\u001b[0m\u001b[0mfind_element_by_css_selector\u001b[0m\u001b[0;34m(\u001b[0m\u001b[0;34m\"#_pcmap_list_scroll_container > ul > li:nth-child(1) > div._3hn9q > a\"\u001b[0m\u001b[0;34m)\u001b[0m\u001b[0;34m.\u001b[0m\u001b[0mget_attribute\u001b[0m\u001b[0;34m(\u001b[0m\u001b[0;34m'data-cid'\u001b[0m\u001b[0;34m)\u001b[0m\u001b[0;34m\u001b[0m\u001b[0;34m\u001b[0m\u001b[0m\n",
      "\u001b[0;31mKeyboardInterrupt\u001b[0m: "
     ]
    }
   ],
   "source": [
    "# 본격적으로 가게 상세페이지의 URL을 가져옵시다\n",
    "\n",
    "for i, keyword in enumerate(df['naver_keyword'].tolist()):\n",
    "    print(\"이번에 찾을 키워드 :\", i, f\"/ {df.shape[0] -1} 행\", keyword)\n",
    "    naver_map_search_url = f\"http://map.naver.com/?query={keyword}\"\n",
    "    driver.get(naver_map_search_url)\n",
    "    time.sleep(7)\n",
    "    try:\n",
    "        url = driver.find_element_by_css_selector(\"#_pcmap_list_scroll_container > ul > li:nth-child(1) > div._3hn9q > a\").get_attribute('data-cid')\n",
    "        df['naver_url'].iloc[i] = url\n",
    "    except Exception as e1:\n",
    "        \n",
    "        pass\n",
    "\n",
    "driver.quit()"
   ]
  },
  {
   "cell_type": "code",
   "execution_count": null,
   "metadata": {},
   "outputs": [],
   "source": []
  },
  {
   "cell_type": "code",
   "execution_count": null,
   "metadata": {},
   "outputs": [],
   "source": [
    "df.iloc[i,-5] = driver.find_element_by_css_selector(\"#app-root > div > div > div.place_detail_wrapper > div:nth-child(5) > div > div.place_section.no_margin > div.place_section_content > ul > li:nth-child(1) > a > div._2CZ7z > div._25ryC > div > span._3yfZ1\").text\n",
    "                df.iloc[i,-4] = driver.find_element_by_css_selector(\"#app-root > div > div > div.place_detail_wrapper > div:nth-child(5) > div > div.place_section.no_margin > div.place_section_content > ul > li:nth-child(2) > a > div._2CZ7z > div._25ryC > div > span._3yfZ1\").text\n",
    "                df.iloc[i,-3] = driver.find_element_by_css_selector(\"#app-root > div > div > div.place_detail_wrapper > div:nth-child(5) > div > div.place_section.no_margin > div.place_section_content > ul > li:nth-child(3) > a > div._2CZ7z > div._25ryC > div > span._3yfZ1\").text\n",
    "                df.iloc[i,-2] = driver.find_element_by_css_selector(\"#app-root > div > div > div.place_detail_wrapper > div:nth-child(5) > div > div.place_section.no_margin > div.place_section_content > ul > li:nth-child(4) > a > div._2CZ7z > div._25ryC > div > span._3yfZ1\").text\n",
    "                df.iloc[i,-1] = driver.find_element_by_css_selector(\"#app-root > div > div > div.place_detail_wrapper > div:nth-child(5) > div > div.place_section.no_margin > div.place_section_content > ul > li:nth-child(5) > a > div._2CZ7z > div._25ryC > div > span._3yfZ1\").text"
   ]
  },
  {
   "cell_type": "code",
   "execution_count": 22,
   "metadata": {},
   "outputs": [
    {
     "data": {
      "text/plain": [
       "Unnamed: 0                554\n",
       "name                   갈치와고갈비\n",
       "cate_1                 일식/수산물\n",
       "cate_2                갈치/생선구이\n",
       "cate_3                한식 음식점업\n",
       "state                    동대문구\n",
       "dong                      용신동\n",
       "lon                   37.5751\n",
       "lat                   127.025\n",
       "naver_keyword    용신동%20갈치와고갈비\n",
       "naver_menu1                  \n",
       "naver_menu2                  \n",
       "naver_menu3                  \n",
       "naver_menu4                  \n",
       "naver_menu5                  \n",
       "Name: 13, dtype: object"
      ]
     },
     "execution_count": 22,
     "metadata": {},
     "output_type": "execute_result"
    }
   ],
   "source": [
    "df.iloc[13]"
   ]
  },
  {
   "cell_type": "code",
   "execution_count": 10,
   "metadata": {},
   "outputs": [],
   "source": []
  },
  {
   "cell_type": "code",
   "execution_count": null,
   "metadata": {},
   "outputs": [],
   "source": []
  }
 ],
 "metadata": {
  "interpreter": {
   "hash": "923cf14e4f735e661d37344983c530abf644c7c50c65b0a4bc6d23970242bbc2"
  },
  "kernelspec": {
   "display_name": "Python 3.9.7 ('base')",
   "language": "python",
   "name": "python3"
  },
  "language_info": {
   "codemirror_mode": {
    "name": "ipython",
    "version": 3
   },
   "file_extension": ".py",
   "mimetype": "text/x-python",
   "name": "python",
   "nbconvert_exporter": "python",
   "pygments_lexer": "ipython3",
   "version": "3.9.7"
  },
  "orig_nbformat": 4
 },
 "nbformat": 4,
 "nbformat_minor": 2
}
